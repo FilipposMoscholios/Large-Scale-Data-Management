{
 "cells": [
  {
   "cell_type": "code",
   "execution_count": 1,
   "id": "b05f8247",
   "metadata": {
    "colab": {
     "base_uri": "https://localhost:8080/"
    },
    "id": "b05f8247",
    "outputId": "3f4695d1-2e24-4c9c-e6dd-6fd8b565c0ac"
   },
   "outputs": [
    {
     "name": "stdout",
     "output_type": "stream",
     "text": [
      "Collecting pyspark\n",
      "  Downloading pyspark-3.2.1.tar.gz (281.4 MB)\n",
      "\u001b[K     |████████████████████████████████| 281.4 MB 34 kB/s \n",
      "\u001b[?25hCollecting py4j==0.10.9.3\n",
      "  Downloading py4j-0.10.9.3-py2.py3-none-any.whl (198 kB)\n",
      "\u001b[K     |████████████████████████████████| 198 kB 59.8 MB/s \n",
      "\u001b[?25hBuilding wheels for collected packages: pyspark\n",
      "  Building wheel for pyspark (setup.py) ... \u001b[?25l\u001b[?25hdone\n",
      "  Created wheel for pyspark: filename=pyspark-3.2.1-py2.py3-none-any.whl size=281853642 sha256=d8213f9983b5b4964d37a870adf62808f9aaa8aa34c79db9c29bd70c67dada01\n",
      "  Stored in directory: /root/.cache/pip/wheels/9f/f5/07/7cd8017084dce4e93e84e92efd1e1d5334db05f2e83bcef74f\n",
      "Successfully built pyspark\n",
      "Installing collected packages: py4j, pyspark\n",
      "Successfully installed py4j-0.10.9.3 pyspark-3.2.1\n"
     ]
    }
   ],
   "source": [
    "pip install pyspark"
   ]
  },
  {
   "cell_type": "code",
   "execution_count": 2,
   "id": "e90c4a07",
   "metadata": {
    "colab": {
     "base_uri": "https://localhost:8080/"
    },
    "id": "e90c4a07",
    "outputId": "a4e2c4cf-9bf4-47da-890e-27286a0576fe"
   },
   "outputs": [
    {
     "name": "stdout",
     "output_type": "stream",
     "text": [
      "Collecting findspark\n",
      "  Downloading findspark-2.0.1-py2.py3-none-any.whl (4.4 kB)\n",
      "Installing collected packages: findspark\n",
      "Successfully installed findspark-2.0.1\n"
     ]
    }
   ],
   "source": [
    "pip install findspark"
   ]
  },
  {
   "cell_type": "markdown",
   "id": "FrOoO6Oej88-",
   "metadata": {
    "id": "FrOoO6Oej88-"
   },
   "source": [
    "## Importing libraries and modules"
   ]
  },
  {
   "cell_type": "code",
   "execution_count": 3,
   "id": "f0b5f845",
   "metadata": {
    "id": "f0b5f845"
   },
   "outputs": [],
   "source": [
    "import pyspark\n",
    "from pyspark.sql import *\n",
    "from pyspark.sql.types import *\n",
    "from pyspark import SparkContext, SparkConf\n",
    "from pyspark.sql import *\n",
    "import pyspark.sql.functions as F\n",
    "from pyspark.sql.functions import col,udf\n",
    "from pyspark.sql.types import *\n",
    "from pyspark.sql import types as T\n",
    "\n",
    "import findspark"
   ]
  },
  {
   "cell_type": "code",
   "execution_count": 4,
   "id": "f6bb4637",
   "metadata": {
    "id": "f6bb4637"
   },
   "outputs": [],
   "source": [
    "findspark.init()"
   ]
  },
  {
   "cell_type": "markdown",
   "id": "n00H67HwkL0D",
   "metadata": {
    "id": "n00H67HwkL0D"
   },
   "source": [
    "## Create a Spark session named zillow and construct a dataframe in order to load our data. Providing also a schema for our data "
   ]
  },
  {
   "cell_type": "code",
   "execution_count": 5,
   "id": "8cab691e",
   "metadata": {
    "id": "8cab691e"
   },
   "outputs": [],
   "source": [
    "spark = SparkSession.builder.appName(\"zillow\").getOrCreate()"
   ]
  },
  {
   "cell_type": "code",
   "execution_count": 6,
   "id": "e84b9402",
   "metadata": {
    "id": "e84b9402"
   },
   "outputs": [],
   "source": [
    "df = spark.read.format('csv').option('header',True).load('zillow.csv')"
   ]
  },
  {
   "cell_type": "code",
   "execution_count": 7,
   "id": "ad2b1811",
   "metadata": {
    "colab": {
     "base_uri": "https://localhost:8080/"
    },
    "id": "ad2b1811",
    "outputId": "1035b87d-6a2f-419e-8f36-752cdb1f9616"
   },
   "outputs": [
    {
     "name": "stdout",
     "output_type": "stream",
     "text": [
      "root\n",
      " |-- title: string (nullable = true)\n",
      " |-- address: string (nullable = true)\n",
      " |-- city: string (nullable = true)\n",
      " |-- state: string (nullable = true)\n",
      " |-- postal_code: string (nullable = true)\n",
      " |-- price: string (nullable = true)\n",
      " |-- facts and features: string (nullable = true)\n",
      " |-- real estate provider: string (nullable = true)\n",
      " |-- url: string (nullable = true)\n",
      "\n"
     ]
    }
   ],
   "source": [
    "df.printSchema()"
   ]
  },
  {
   "cell_type": "code",
   "execution_count": 8,
   "id": "FDcgTQLMfECO",
   "metadata": {
    "colab": {
     "base_uri": "https://localhost:8080/"
    },
    "id": "FDcgTQLMfECO",
    "outputId": "940c1488-edb5-4f2d-94a4-c2dea95ac9bc"
   },
   "outputs": [
    {
     "name": "stdout",
     "output_type": "stream",
     "text": [
      "+--------------+-------+------------+-----+-----------+----------+--------------------+--------------------+--------------------+\n",
      "|         title|address|        city|state|postal_code|     price|  facts and features|real estate provider|                 url|\n",
      "+--------------+-------+------------+-----+-----------+----------+--------------------+--------------------+--------------------+\n",
      "|Condo for sale|   null|  Somerville|   MA|      02145|  $342,000|2 bds, 1.0 ba ,70...|William Raveis R....|https://www.zillo...|\n",
      "|Condo for sale|   null|      Boston|   MA|      02116|$1,700,000|2 bds, 2.0 ba ,12...|Century 21 North ...|https://www.zillo...|\n",
      "|Condo for sale|   null|      Boston|   MA|      02118|  $336,500|1 bds, 1.0 ba ,10...|Maloney Propertie...|https://www.zillo...|\n",
      "|House for sale|   null|      Boston|   MA|      02118|$9,950,000|4 bds, 7.0 ba ,68...|Campion & Company...|https://www.zillo...|\n",
      "|Condo for sale|   null|      Boston|   MA|      02128|  $479,000|2 bds, 3.0 ba ,10...|Berkshire Hathawa...|https://www.zillo...|\n",
      "|House for sale|   null| East Boston|   MA|      02128|  $899,000|3 bds, 3.0 ba ,23...|Berkshire Hathawa...|https://www.zillo...|\n",
      "|Condo for sale|   null|  Somerville|   MA|      02145|  $397,300|2 bds, 1.0 ba ,78...|William Raveis R....|https://www.zillo...|\n",
      "|Condo for sale|   null|South Boston|   MA|      02127|  $619,900|2 bds, 1.0 ba ,85...|Bento Real Estate...|https://www.zillo...|\n",
      "|Condo for sale|   null|      Boston|   MA|      02116|  $850,000|1 bds, 1.0 ba ,67...|Engel & Volkers B...|https://www.zillo...|\n",
      "|Condo for sale|   null|      Boston|   MA|      02114|  $649,900|2 bds, 1.0 ba ,51...|Leading Edge Real...|https://www.zillo...|\n",
      "+--------------+-------+------------+-----+-----------+----------+--------------------+--------------------+--------------------+\n",
      "only showing top 10 rows\n",
      "\n"
     ]
    }
   ],
   "source": [
    "df.show(10)"
   ]
  },
  {
   "cell_type": "markdown",
   "id": "08f0e23c",
   "metadata": {
    "id": "08f0e23c"
   },
   "source": [
    "## **Task 1**: \n",
    "#### For the first task we have to retrieve the number of bedrooms from the column of 'facts and features'. So to solve it we constuct a function first. At the first step, we use split with \",\" and taking the first column [0], getting the value f.i. '2 bds', after we use split again with \" \" as definition and take the first column again [0] in order to get finally only the numbers f.i. '2'. In the sequel, in order to face the \"None\" values, because some listings contain them, i decide to replace them with \"0\". Afterwards, constructing a udf function with name \"converUDF\" we apply it on the column of 'fact and features', recieving this way the number of bedrooms. At the last part of the processing we add a new column in the same dataframe, with the filtered values in order to use the cleaned column later.<br>Moreover we present for the first 10 listings the corresponding bedrooms and later we provide the distinct values for the column to verify the above processing."
   ]
  },
  {
   "cell_type": "code",
   "execution_count": 9,
   "id": "70cd1e61",
   "metadata": {
    "id": "70cd1e61"
   },
   "outputs": [],
   "source": [
    "def retrieve_bds(string):\n",
    "    string = string.split(\",\")[0]   \n",
    "    string = string.split(\" \")[0] \n",
    "    if (string == 'None'):# replace the None values with 0\n",
    "      string = \"0\"\n",
    "    return int(string)#returing as integer each value\n",
    "\n",
    "convertUDF = udf(lambda z: retrieve_bds(z), IntegerType())#specify the type of column\n",
    "df = df.withColumn('bedrooms', convertUDF(col('facts and features')))"
   ]
  },
  {
   "cell_type": "code",
   "execution_count": 10,
   "id": "3il0Jg20eWVT",
   "metadata": {
    "colab": {
     "base_uri": "https://localhost:8080/"
    },
    "id": "3il0Jg20eWVT",
    "outputId": "07c9c112-b3b7-48bb-d404-3429a3183085"
   },
   "outputs": [
    {
     "name": "stdout",
     "output_type": "stream",
     "text": [
      "+--------+\n",
      "|bedrooms|\n",
      "+--------+\n",
      "|       2|\n",
      "|       2|\n",
      "|       1|\n",
      "|       4|\n",
      "|       2|\n",
      "|       3|\n",
      "|       2|\n",
      "|       2|\n",
      "|       1|\n",
      "|       2|\n",
      "+--------+\n",
      "only showing top 10 rows\n",
      "\n"
     ]
    }
   ],
   "source": [
    "df.select('bedrooms').show(10)"
   ]
  },
  {
   "cell_type": "code",
   "execution_count": 11,
   "id": "19d32b20",
   "metadata": {
    "colab": {
     "base_uri": "https://localhost:8080/"
    },
    "id": "19d32b20",
    "outputId": "243a78f9-df65-49ee-a7f9-70757661b8fa"
   },
   "outputs": [
    {
     "name": "stdout",
     "output_type": "stream",
     "text": [
      "+--------+\n",
      "|bedrooms|\n",
      "+--------+\n",
      "|      12|\n",
      "|       1|\n",
      "|      13|\n",
      "|       6|\n",
      "|      16|\n",
      "|       3|\n",
      "|       5|\n",
      "|      15|\n",
      "|       9|\n",
      "|      17|\n",
      "|       4|\n",
      "|       8|\n",
      "|       7|\n",
      "|      10|\n",
      "|      11|\n",
      "|      14|\n",
      "|       2|\n",
      "|       0|\n",
      "|      18|\n",
      "+--------+\n",
      "\n"
     ]
    }
   ],
   "source": [
    "df.select('bedrooms').distinct().show()"
   ]
  },
  {
   "cell_type": "markdown",
   "id": "fa9365aa",
   "metadata": {
    "id": "fa9365aa"
   },
   "source": [
    "## **Task 2**: \n",
    "#### The rationale for this task is the same as above. This time i split first with \",\" and with column [1] i took the values f.i. \" 1.0 ba\", then i split again with \" \" and choose the column [1] to get the values f.i \"1.0\", because there was a space at the start of \" 1.0 ba\". Finally with the last split on \".\" and choosing the column [0] i took only the number of bathrooms. The following steps is the same described above with more details.\n"
   ]
  },
  {
   "cell_type": "code",
   "execution_count": 12,
   "id": "8af81a22",
   "metadata": {
    "id": "8af81a22"
   },
   "outputs": [],
   "source": [
    "def retrieve_ba(string):\n",
    "    string = string.split(\",\")[1].split(' ')[1]\n",
    "    string=string.split(\".\")[0]\n",
    "    if (string == 'None'): # replace the None with 0 \n",
    "      string = \"0\"\n",
    "    return int(string)\n",
    "\n",
    "convertUDF = udf(lambda z: retrieve_ba(z), IntegerType())\n",
    "df = df.withColumn('bathrooms', convertUDF(col('facts and features')))"
   ]
  },
  {
   "cell_type": "code",
   "execution_count": 13,
   "id": "5215641b",
   "metadata": {
    "colab": {
     "base_uri": "https://localhost:8080/"
    },
    "id": "5215641b",
    "outputId": "61e9a953-a5a2-43bf-a7fc-9dab9d372cfe"
   },
   "outputs": [
    {
     "name": "stdout",
     "output_type": "stream",
     "text": [
      "+---------+\n",
      "|bathrooms|\n",
      "+---------+\n",
      "|        1|\n",
      "|        2|\n",
      "|        1|\n",
      "|        7|\n",
      "|        3|\n",
      "|        3|\n",
      "|        1|\n",
      "|        1|\n",
      "|        1|\n",
      "|        1|\n",
      "+---------+\n",
      "only showing top 10 rows\n",
      "\n"
     ]
    }
   ],
   "source": [
    "df.select('bathrooms').show(10)"
   ]
  },
  {
   "cell_type": "code",
   "execution_count": 14,
   "id": "cCnKcWPVah6T",
   "metadata": {
    "colab": {
     "base_uri": "https://localhost:8080/"
    },
    "id": "cCnKcWPVah6T",
    "outputId": "74b0252e-a930-4fae-81c3-2ed11cfa4903"
   },
   "outputs": [
    {
     "name": "stdout",
     "output_type": "stream",
     "text": [
      "+---------+\n",
      "|bathrooms|\n",
      "+---------+\n",
      "|       12|\n",
      "|        1|\n",
      "|       13|\n",
      "|        6|\n",
      "|        3|\n",
      "|        5|\n",
      "|        9|\n",
      "|        4|\n",
      "|        8|\n",
      "|        7|\n",
      "|       10|\n",
      "|       11|\n",
      "|        2|\n",
      "|        0|\n",
      "+---------+\n",
      "\n"
     ]
    }
   ],
   "source": [
    "df.select('bathrooms').distinct().show()"
   ]
  },
  {
   "cell_type": "markdown",
   "id": "f2fd98d7",
   "metadata": {
    "id": "f2fd98d7"
   },
   "source": [
    "## **Task 3**: \n",
    "#### The rationale for this task is the same as above. This time i split first with \",\" and with column [2] i took the values f.i. \"705 sqft\", then i split again with \" \" and choose the column [0] to get the values f.i. \"705\" which is the number of sqft. The following steps is the same described above with more details."
   ]
  },
  {
   "cell_type": "code",
   "execution_count": 15,
   "id": "b6da125a",
   "metadata": {
    "id": "b6da125a"
   },
   "outputs": [],
   "source": [
    "def retrieve_sqft(string):\n",
    "    string = string.split(',')[2].split(' ')[0]\n",
    "    return int(string)\n",
    "\n",
    "convertUDF = udf(lambda z: retrieve_sqft(z), IntegerType())\n",
    "df = df.withColumn('sqft', convertUDF(col('facts and features')))"
   ]
  },
  {
   "cell_type": "code",
   "execution_count": 16,
   "id": "a4d99192",
   "metadata": {
    "colab": {
     "base_uri": "https://localhost:8080/"
    },
    "id": "a4d99192",
    "outputId": "e2ebab30-3fcc-4b63-b240-114d914bc2de"
   },
   "outputs": [
    {
     "name": "stdout",
     "output_type": "stream",
     "text": [
      "+----+\n",
      "|sqft|\n",
      "+----+\n",
      "| 705|\n",
      "|1228|\n",
      "|1000|\n",
      "|6836|\n",
      "|1000|\n",
      "|2313|\n",
      "| 780|\n",
      "| 856|\n",
      "| 675|\n",
      "| 511|\n",
      "+----+\n",
      "only showing top 10 rows\n",
      "\n"
     ]
    }
   ],
   "source": [
    "df.select('sqft').show(10)"
   ]
  },
  {
   "cell_type": "markdown",
   "id": "9b21ec42",
   "metadata": {
    "id": "9b21ec42"
   },
   "source": [
    "## **Task 4**: \n",
    "#### For this task i create a list with the accepted values in order to filter the column of 'title'. As accepted categories i will quilify the 'Condo', 'House', 'Lot' and 'UknownType' for the rest instances. So first i split the column of 'title' which contain f.i. \"Condo for sale\" and get the column [0] to recieve f.i. the \"Condo\". Afterwards, constructing the above list i filter every listing with the accepted list and return the corresponding value unless the values does not appear on the list, these cases masked as UknownType. The following steps is the same described above with more details."
   ]
  },
  {
   "cell_type": "code",
   "execution_count": 17,
   "id": "493ee733",
   "metadata": {
    "id": "493ee733"
   },
   "outputs": [],
   "source": [
    "def retrieve_type(string):\n",
    "  \n",
    "  string=string.split()[0]\n",
    "  accepted_list=[\"Condo\", \"House\",\"Lot\" ]\n",
    "  if string not in accepted_list:\n",
    "    return \"UknownType\"\n",
    "  else:\n",
    "    return string\n",
    "\n",
    "convertUDF = udf(lambda z: retrieve_type(z))#default type is string\n",
    "df = df.withColumn('type', convertUDF(col('title')))"
   ]
  },
  {
   "cell_type": "code",
   "execution_count": 18,
   "id": "ZoxKLdKcTFEc",
   "metadata": {
    "colab": {
     "base_uri": "https://localhost:8080/"
    },
    "id": "ZoxKLdKcTFEc",
    "outputId": "fa4de16a-cc5a-49e8-9f42-bdd61b4fc918"
   },
   "outputs": [
    {
     "name": "stdout",
     "output_type": "stream",
     "text": [
      "+-----+\n",
      "| type|\n",
      "+-----+\n",
      "|Condo|\n",
      "|Condo|\n",
      "|Condo|\n",
      "|House|\n",
      "|Condo|\n",
      "|House|\n",
      "|Condo|\n",
      "|Condo|\n",
      "|Condo|\n",
      "|Condo|\n",
      "+-----+\n",
      "only showing top 10 rows\n",
      "\n"
     ]
    }
   ],
   "source": [
    "df.select('type').show(10)"
   ]
  },
  {
   "cell_type": "code",
   "execution_count": 19,
   "id": "tQqLgiPFubyW",
   "metadata": {
    "colab": {
     "base_uri": "https://localhost:8080/"
    },
    "id": "tQqLgiPFubyW",
    "outputId": "60dcc4ec-b4c2-4947-aca0-0987187d2fe3"
   },
   "outputs": [
    {
     "name": "stdout",
     "output_type": "stream",
     "text": [
      "+----------+\n",
      "|      type|\n",
      "+----------+\n",
      "|       Lot|\n",
      "|     Condo|\n",
      "|     House|\n",
      "|UknownType|\n",
      "+----------+\n",
      "\n"
     ]
    }
   ],
   "source": [
    "df.select('type').distinct().show()"
   ]
  },
  {
   "cell_type": "markdown",
   "id": "576ffb61",
   "metadata": {
    "id": "576ffb61"
   },
   "source": [
    "## **Task 5**: \n",
    "#### At this part for each listing f.i. \"Condo for sale\" on the 'title' column, i split first with \" \" and with [-1] i took f.i the \"sale\" i.e. the ending. There are not listings 'rent' or 'sold' so the qualified categories are 'forclose' and 'sale'. I took the assumption, that the listing with \"New construction\" as value, implies they are for sale, for this reason i report them as listings for sale."
   ]
  },
  {
   "cell_type": "code",
   "execution_count": 20,
   "id": "c3f1be84",
   "metadata": {
    "id": "c3f1be84"
   },
   "outputs": [],
   "source": [
    "def retrieve_offer(string):\n",
    "  string=string.split()[-1]# nothing defined on split has default to split on \" \"\n",
    "  if string == \"construction\":\n",
    "    return \"sale\"\n",
    "  elif string == \"Foreclosure\":\n",
    "    return \"forclose\"\n",
    "  else:\n",
    "    return string \n",
    "\n",
    "convertUDF = udf(lambda z: retrieve_offer(z))\n",
    "df = df.withColumn('offer', convertUDF(col('title')))"
   ]
  },
  {
   "cell_type": "code",
   "execution_count": 21,
   "id": "P127bgUdTMiq",
   "metadata": {
    "colab": {
     "base_uri": "https://localhost:8080/"
    },
    "id": "P127bgUdTMiq",
    "outputId": "770f72eb-2cf2-40fe-bb4c-bf323bd788a3"
   },
   "outputs": [
    {
     "name": "stdout",
     "output_type": "stream",
     "text": [
      "+-----+\n",
      "|offer|\n",
      "+-----+\n",
      "| sale|\n",
      "| sale|\n",
      "| sale|\n",
      "| sale|\n",
      "| sale|\n",
      "| sale|\n",
      "| sale|\n",
      "| sale|\n",
      "| sale|\n",
      "| sale|\n",
      "+-----+\n",
      "only showing top 10 rows\n",
      "\n"
     ]
    }
   ],
   "source": [
    "df.select('offer').show(10)"
   ]
  },
  {
   "cell_type": "code",
   "execution_count": 22,
   "id": "mBvvO9V7uf-X",
   "metadata": {
    "colab": {
     "base_uri": "https://localhost:8080/"
    },
    "id": "mBvvO9V7uf-X",
    "outputId": "b31838ce-a04d-41fc-a062-8d63779c9b45"
   },
   "outputs": [
    {
     "name": "stdout",
     "output_type": "stream",
     "text": [
      "+--------+\n",
      "|   offer|\n",
      "+--------+\n",
      "|forclose|\n",
      "|    sale|\n",
      "+--------+\n",
      "\n"
     ]
    }
   ],
   "source": [
    "df.select('offer').distinct().show()"
   ]
  },
  {
   "cell_type": "markdown",
   "id": "bd054597",
   "metadata": {
    "id": "bd054597"
   },
   "source": [
    "## **Task 6**: \n",
    "#### For this part, in order to filter out the listings that are not for sale, i use the function 'contains' and passing the 'sale' as definition i took only the listings that are for sale, hence i filter out the listings that are not for sale. Mentioning here, that i use the 'offer' column, which contains the trasnformed values from task 5 containing the listings that are for \"sale\" or \"forclose\". Finally i provide some statistics, for the number of listings overall, the number of listings which are for sale, and how many listings are not for sale."
   ]
  },
  {
   "cell_type": "code",
   "execution_count": 23,
   "id": "cdf08f8c",
   "metadata": {
    "colab": {
     "base_uri": "https://localhost:8080/"
    },
    "id": "cdf08f8c",
    "outputId": "195bc105-486a-44eb-a0d8-1245d75de15a"
   },
   "outputs": [
    {
     "name": "stdout",
     "output_type": "stream",
     "text": [
      "+--------------+-------+------------+-----+-----------+----------+--------------------+--------------------+--------------------+\n",
      "|         title|address|        city|state|postal_code|     price|  facts and features|real estate provider|                 url|\n",
      "+--------------+-------+------------+-----+-----------+----------+--------------------+--------------------+--------------------+\n",
      "|Condo for sale|   null|  Somerville|   MA|      02145|  $342,000|2 bds, 1.0 ba ,70...|William Raveis R....|https://www.zillo...|\n",
      "|Condo for sale|   null|      Boston|   MA|      02116|$1,700,000|2 bds, 2.0 ba ,12...|Century 21 North ...|https://www.zillo...|\n",
      "|Condo for sale|   null|      Boston|   MA|      02118|  $336,500|1 bds, 1.0 ba ,10...|Maloney Propertie...|https://www.zillo...|\n",
      "|House for sale|   null|      Boston|   MA|      02118|$9,950,000|4 bds, 7.0 ba ,68...|Campion & Company...|https://www.zillo...|\n",
      "|Condo for sale|   null|      Boston|   MA|      02128|  $479,000|2 bds, 3.0 ba ,10...|Berkshire Hathawa...|https://www.zillo...|\n",
      "|House for sale|   null| East Boston|   MA|      02128|  $899,000|3 bds, 3.0 ba ,23...|Berkshire Hathawa...|https://www.zillo...|\n",
      "|Condo for sale|   null|  Somerville|   MA|      02145|  $397,300|2 bds, 1.0 ba ,78...|William Raveis R....|https://www.zillo...|\n",
      "|Condo for sale|   null|South Boston|   MA|      02127|  $619,900|2 bds, 1.0 ba ,85...|Bento Real Estate...|https://www.zillo...|\n",
      "|Condo for sale|   null|      Boston|   MA|      02116|  $850,000|1 bds, 1.0 ba ,67...|Engel & Volkers B...|https://www.zillo...|\n",
      "|Condo for sale|   null|      Boston|   MA|      02114|  $649,900|2 bds, 1.0 ba ,51...|Leading Edge Real...|https://www.zillo...|\n",
      "+--------------+-------+------------+-----+-----------+----------+--------------------+--------------------+--------------------+\n",
      "only showing top 10 rows\n",
      "\n"
     ]
    }
   ],
   "source": [
    "df_listings_for_sale = df.filter(df.offer.contains('sale'))\n",
    "df_listings_for_sale.select('title','address','city','state','postal_code','price','facts and features','real estate provider','url').show(10)"
   ]
  },
  {
   "cell_type": "code",
   "execution_count": 24,
   "id": "1cba59cc",
   "metadata": {
    "colab": {
     "base_uri": "https://localhost:8080/"
    },
    "id": "1cba59cc",
    "outputId": "5dc085f7-6719-4225-87b0-38e6d51c2ac2"
   },
   "outputs": [
    {
     "name": "stdout",
     "output_type": "stream",
     "text": [
      "the number of listings overall is :100313\n",
      "the number of listings for sale is :100018\n",
      "they have been filtered: 295 listings (number of listings not for sale)\n"
     ]
    }
   ],
   "source": [
    "print(f\"the number of listings overall is :{df.count()}\")\n",
    "print(f\"the number of listings for sale is :{df_listings_for_sale.count()}\" )\n",
    "print(f\"they have been filtered: {df.count()-df_listings_for_sale.count()} listings (number of listings not for sale)\")"
   ]
  },
  {
   "cell_type": "markdown",
   "id": "d5d15f15",
   "metadata": {
    "id": "d5d15f15"
   },
   "source": [
    "## **Task 7**:  \n",
    "#### At this part, for each listing f.i. \"\\\\$342,000\" in order to recieve only the number without the symbols i did the following steps. First choosing [1:] for each row i avoid the \"$\". Secondly, using the function 'filter' i check the given string to be digit and with the 'join' function later i succeed to concatenate the values before and after the \".\" without taking into account the  \".\"."
   ]
  },
  {
   "cell_type": "code",
   "execution_count": 25,
   "id": "67be2e05",
   "metadata": {
    "id": "67be2e05"
   },
   "outputs": [],
   "source": [
    "def retrieve_price(string):\n",
    "    price = string[1:] #avoid $ from each listing\n",
    "    #check each listing for digit and with join avoid the '.'\n",
    "    numeric_filter = filter(str.isdigit, price)\n",
    "    numeric_string = \"\".join(numeric_filter) \n",
    "    return int(numeric_string)\n",
    "\n",
    "convertUDF = udf(lambda z: retrieve_price(z), IntegerType())\n",
    "df = df.withColumn('price_filtered', convertUDF(col('price')))"
   ]
  },
  {
   "cell_type": "code",
   "execution_count": 26,
   "id": "SyZdmcB7cKwI",
   "metadata": {
    "colab": {
     "base_uri": "https://localhost:8080/"
    },
    "id": "SyZdmcB7cKwI",
    "outputId": "49b1b630-d7e7-4607-9d6c-a90343bd501e"
   },
   "outputs": [
    {
     "name": "stdout",
     "output_type": "stream",
     "text": [
      "+--------------+\n",
      "|price_filtered|\n",
      "+--------------+\n",
      "|        342000|\n",
      "|       1700000|\n",
      "|        336500|\n",
      "|       9950000|\n",
      "|        479000|\n",
      "|        899000|\n",
      "|        397300|\n",
      "|        619900|\n",
      "|        850000|\n",
      "|        649900|\n",
      "+--------------+\n",
      "only showing top 10 rows\n",
      "\n"
     ]
    }
   ],
   "source": [
    "df.select(convertUDF(col('price')).alias('price_filtered')).show(10)"
   ]
  },
  {
   "cell_type": "markdown",
   "id": "e4e346ca",
   "metadata": {
    "id": "e4e346ca"
   },
   "source": [
    "## **Task 8**: \n",
    "#### The rationale for this task is simlilar with the task 6. I use the column of \"bedrooms\" constracting on task 1 which contain the number of bedrooms. So using the 'filter' function i took the listings with less than 11 bedrooms. Hence i filter out the listings that have more than 10 bedrooms. Finally i provide some statistics, for the number of listings overall, the number of listings with less than 10 bedrooms, and how many listings are filtered out (listings with more than 10 bedrooms)."
   ]
  },
  {
   "cell_type": "code",
   "execution_count": 27,
   "id": "5a169f5b",
   "metadata": {
    "colab": {
     "base_uri": "https://localhost:8080/"
    },
    "id": "5a169f5b",
    "outputId": "71252c39-d6bb-40b7-da95-2ffab2d6c95a"
   },
   "outputs": [
    {
     "name": "stdout",
     "output_type": "stream",
     "text": [
      "+--------------+-------+------------+-----+-----------+----------+--------------------+--------------------+--------------------+\n",
      "|         title|address|        city|state|postal_code|     price|  facts and features|real estate provider|                 url|\n",
      "+--------------+-------+------------+-----+-----------+----------+--------------------+--------------------+--------------------+\n",
      "|Condo for sale|   null|  Somerville|   MA|      02145|  $342,000|2 bds, 1.0 ba ,70...|William Raveis R....|https://www.zillo...|\n",
      "|Condo for sale|   null|      Boston|   MA|      02116|$1,700,000|2 bds, 2.0 ba ,12...|Century 21 North ...|https://www.zillo...|\n",
      "|Condo for sale|   null|      Boston|   MA|      02118|  $336,500|1 bds, 1.0 ba ,10...|Maloney Propertie...|https://www.zillo...|\n",
      "|House for sale|   null|      Boston|   MA|      02118|$9,950,000|4 bds, 7.0 ba ,68...|Campion & Company...|https://www.zillo...|\n",
      "|Condo for sale|   null|      Boston|   MA|      02128|  $479,000|2 bds, 3.0 ba ,10...|Berkshire Hathawa...|https://www.zillo...|\n",
      "|House for sale|   null| East Boston|   MA|      02128|  $899,000|3 bds, 3.0 ba ,23...|Berkshire Hathawa...|https://www.zillo...|\n",
      "|Condo for sale|   null|  Somerville|   MA|      02145|  $397,300|2 bds, 1.0 ba ,78...|William Raveis R....|https://www.zillo...|\n",
      "|Condo for sale|   null|South Boston|   MA|      02127|  $619,900|2 bds, 1.0 ba ,85...|Bento Real Estate...|https://www.zillo...|\n",
      "|Condo for sale|   null|      Boston|   MA|      02116|  $850,000|1 bds, 1.0 ba ,67...|Engel & Volkers B...|https://www.zillo...|\n",
      "|Condo for sale|   null|      Boston|   MA|      02114|  $649,900|2 bds, 1.0 ba ,51...|Leading Edge Real...|https://www.zillo...|\n",
      "+--------------+-------+------------+-----+-----------+----------+--------------------+--------------------+--------------------+\n",
      "only showing top 10 rows\n",
      "\n"
     ]
    }
   ],
   "source": [
    "data_retrieve_bds_more_than_ten = df.filter((df.bedrooms  < 11))\n",
    "data_retrieve_bds_more_than_ten.select('title','address','city','state','postal_code','price','facts and features','real estate provider','url').show(10)"
   ]
  },
  {
   "cell_type": "code",
   "execution_count": 28,
   "id": "NLLvURsTdGN4",
   "metadata": {
    "colab": {
     "base_uri": "https://localhost:8080/"
    },
    "id": "NLLvURsTdGN4",
    "outputId": "e2c08e8f-2b15-4ab5-9b92-811cb5341f72"
   },
   "outputs": [
    {
     "name": "stdout",
     "output_type": "stream",
     "text": [
      "the number of listings overall is :100313\n",
      "the number of listings with less than 10 bedrooms :99663\n",
      "they have been filtered: 650 listings\n"
     ]
    }
   ],
   "source": [
    "print(f\"the number of listings overall is :{df.count()}\")\n",
    "print(f\"the number of listings with less than 10 bedrooms :{data_retrieve_bds_more_than_ten.count()}\" )\n",
    "print(f\"they have been filtered: {df.count()-data_retrieve_bds_more_than_ten.count()} listings\" )"
   ]
  },
  {
   "cell_type": "markdown",
   "id": "7bc427fc",
   "metadata": {
    "id": "7bc427fc"
   },
   "source": [
    "## **Task 9**:  \n",
    "#### The rationale for this task is simlilar with the task 6 and 8. I use the column of \"price_filtered\" constracting on task 7 which contain the prices. So using the 'filter' function i took the listings with less than 20000000 price and more than 100000. Hence, i filter out the listings with more than 20000000 price and less than 100000 price. Finally i provide some statistics, for the number of listings overall, the number of listings with less than 20000000 price and more than 100000, and how many listings are filtered out (listings with more than 20000000 price and less than 100000 price)."
   ]
  },
  {
   "cell_type": "code",
   "execution_count": 29,
   "id": "1ea5600c",
   "metadata": {
    "colab": {
     "base_uri": "https://localhost:8080/"
    },
    "id": "1ea5600c",
    "outputId": "a5f05fc2-cb2d-4850-efa9-0499261f4374"
   },
   "outputs": [
    {
     "name": "stdout",
     "output_type": "stream",
     "text": [
      "+--------------+-------+------------+-----+-----------+----------+--------------------+--------------------+--------------------+\n",
      "|         title|address|        city|state|postal_code|     price|  facts and features|real estate provider|                 url|\n",
      "+--------------+-------+------------+-----+-----------+----------+--------------------+--------------------+--------------------+\n",
      "|Condo for sale|   null|  Somerville|   MA|      02145|  $342,000|2 bds, 1.0 ba ,70...|William Raveis R....|https://www.zillo...|\n",
      "|Condo for sale|   null|      Boston|   MA|      02116|$1,700,000|2 bds, 2.0 ba ,12...|Century 21 North ...|https://www.zillo...|\n",
      "|Condo for sale|   null|      Boston|   MA|      02118|  $336,500|1 bds, 1.0 ba ,10...|Maloney Propertie...|https://www.zillo...|\n",
      "|House for sale|   null|      Boston|   MA|      02118|$9,950,000|4 bds, 7.0 ba ,68...|Campion & Company...|https://www.zillo...|\n",
      "|Condo for sale|   null|      Boston|   MA|      02128|  $479,000|2 bds, 3.0 ba ,10...|Berkshire Hathawa...|https://www.zillo...|\n",
      "|House for sale|   null| East Boston|   MA|      02128|  $899,000|3 bds, 3.0 ba ,23...|Berkshire Hathawa...|https://www.zillo...|\n",
      "|Condo for sale|   null|  Somerville|   MA|      02145|  $397,300|2 bds, 1.0 ba ,78...|William Raveis R....|https://www.zillo...|\n",
      "|Condo for sale|   null|South Boston|   MA|      02127|  $619,900|2 bds, 1.0 ba ,85...|Bento Real Estate...|https://www.zillo...|\n",
      "|Condo for sale|   null|      Boston|   MA|      02116|  $850,000|1 bds, 1.0 ba ,67...|Engel & Volkers B...|https://www.zillo...|\n",
      "|Condo for sale|   null|      Boston|   MA|      02114|  $649,900|2 bds, 1.0 ba ,51...|Leading Edge Real...|https://www.zillo...|\n",
      "+--------------+-------+------------+-----+-----------+----------+--------------------+--------------------+--------------------+\n",
      "only showing top 10 rows\n",
      "\n"
     ]
    }
   ],
   "source": [
    "df_listings_most_expensive_cheapest = df.filter((df.price_filtered  < 20000000) & (df.price_filtered > 100000))\n",
    "df_listings_most_expensive_cheapest.select('title','address','city','state','postal_code','price','facts and features','real estate provider','url').show(10)"
   ]
  },
  {
   "cell_type": "code",
   "execution_count": 30,
   "id": "a09b87c8",
   "metadata": {
    "colab": {
     "base_uri": "https://localhost:8080/"
    },
    "id": "a09b87c8",
    "outputId": "6be73807-ccc6-4c41-b00a-6360e81dea8e"
   },
   "outputs": [
    {
     "name": "stdout",
     "output_type": "stream",
     "text": [
      "the number of listings overall is :100313\n",
      "the number of listings with less than 20000000$ and more than 100000$ :98838\n",
      "they have been filtered: 1475 listings\n"
     ]
    }
   ],
   "source": [
    "print(f\"the number of listings overall is :{df.count()}\")\n",
    "print(f\"the number of listings with less than 20000000$ and more than 100000$ :{df_listings_most_expensive_cheapest.count()}\" )\n",
    "print(f\"they have been filtered: {df.count()-df_listings_most_expensive_cheapest.count()} listings\" )"
   ]
  },
  {
   "cell_type": "markdown",
   "id": "8e5592f9",
   "metadata": {
    "id": "8e5592f9"
   },
   "source": [
    "## **Task 10**: \n",
    "#### At this part of the exercise i use the column of 'type' which constructed on task 4, passing in the 'filter' function the 'House' i receive only the listings which are Houses. Hence i filter out all the listings that are not houses. Finally,  i provide some statistics, for the number of listings overall, the number of listings which are Houses, and how many listings are filtered out (listings which are not houses)."
   ]
  },
  {
   "cell_type": "code",
   "execution_count": 31,
   "id": "2339aa77",
   "metadata": {
    "colab": {
     "base_uri": "https://localhost:8080/"
    },
    "id": "2339aa77",
    "outputId": "d8c7989c-da2e-4e88-e678-20ac6479908e"
   },
   "outputs": [
    {
     "name": "stdout",
     "output_type": "stream",
     "text": [
      "+--------------+-------+------------+-----+-----------+----------+--------------------+--------------------+--------------------+\n",
      "|         title|address|        city|state|postal_code|     price|  facts and features|real estate provider|                 url|\n",
      "+--------------+-------+------------+-----+-----------+----------+--------------------+--------------------+--------------------+\n",
      "|House for sale|   null|      Boston|   MA|      02118|$9,950,000|4 bds, 7.0 ba ,68...|Campion & Company...|https://www.zillo...|\n",
      "|House for sale|   null| East Boston|   MA|      02128|  $899,000|3 bds, 3.0 ba ,23...|Berkshire Hathawa...|https://www.zillo...|\n",
      "|House for sale|   null|      Boston|   MA|      02113|$1,200,000|2 bds, 1.0 ba ,11...|       CL Properties|https://www.zillo...|\n",
      "|House for sale|   null|      Boston|   MA|      02129|$1,119,000|3 bds, 4.0 ba ,16...|All Star Realty, ...|https://www.zillo...|\n",
      "|House for sale|   null|South Boston|   MA|      02127|$1,699,000|4 bds, 3.0 ba ,20...|             Compass|https://www.zillo...|\n",
      "|House for sale|   null|      Boston|   MA|      02128|  $589,000|2 bds, 2.0 ba ,12...|Gibson Sotheby's ...|https://www.zillo...|\n",
      "|House for sale|   null|      Boston|   MA|      02115|$9,750,000|4 bds, 7.0 ba ,47...|MGS Group Real Es...|https://www.zillo...|\n",
      "|House for sale|   null|  Somerville|   MA|      02145|$2,075,000|4 bds, 4.0 ba ,31...|Gibson Sotheby's ...|https://www.zillo...|\n",
      "|House for sale|   null|      Boston|   MA|      02114|$3,200,000|3 bds, 3.0 ba ,20...|William Raveis R....|https://www.zillo...|\n",
      "|House for sale|   null|South Boston|   MA|      02127|$1,175,000|3 bds, 3.0 ba ,18...|Coldwell Banker R...|https://www.zillo...|\n",
      "+--------------+-------+------------+-----+-----------+----------+--------------------+--------------------+--------------------+\n",
      "only showing top 10 rows\n",
      "\n"
     ]
    }
   ],
   "source": [
    "df_listings_that_are_houses = df.filter(df.type==\"House\")\n",
    "df_listings_that_are_houses.select('title','address','city','state','postal_code','price','facts and features','real estate provider','url').show(10)"
   ]
  },
  {
   "cell_type": "code",
   "execution_count": 32,
   "id": "935e3d18",
   "metadata": {
    "colab": {
     "base_uri": "https://localhost:8080/"
    },
    "id": "935e3d18",
    "outputId": "0ba6da3b-1860-4ffa-d31f-eb4d87203e6e"
   },
   "outputs": [
    {
     "name": "stdout",
     "output_type": "stream",
     "text": [
      "the number of listings overall is :100313\n",
      "the number of listings which are houses:22554\n",
      "they have been filtered:77759,listings\n"
     ]
    }
   ],
   "source": [
    "print(f\"the number of listings overall is :{df.count()}\")\n",
    "print(f\"the number of listings which are houses:{df_listings_that_are_houses.count()}\" )\n",
    "print(f\"they have been filtered:{df.count()-df_listings_that_are_houses.count()},listings\" )"
   ]
  },
  {
   "cell_type": "markdown",
   "id": "90dfb74a",
   "metadata": {
    "id": "90dfb74a"
   },
   "source": [
    "## **Task 11**: \n",
    "#### At the final task of the exercise, i use the 'sql' function passing a query to get the average price per sqft for houses that are for sale and group them by bedrooms. To begin with we construct a 'View' named 'task11' in which the sql function could processing, containing all the dataset including the extra columns constructed from the previous tasks. Afterwards, inside the statement we start by selecting the bedrooms which is a column constructed in the first task. We take the avg() of each listing from \"price_filtered\" column constructed in the task 7 divided of each listing from \"sqft\" column constructed in task 3, getting this way the average price per sqft. We specify in where statement that, from the 'title' column we keeping only the listings that are 'House for sale'. Finally we group them by the number of bedrooms."
   ]
  },
  {
   "cell_type": "code",
   "execution_count": 33,
   "id": "poJpNu9W29ul",
   "metadata": {
    "id": "poJpNu9W29ul"
   },
   "outputs": [],
   "source": [
    "df.createOrReplaceTempView(\"task11\")"
   ]
  },
  {
   "cell_type": "code",
   "execution_count": 35,
   "id": "AUVYX2Uv1rng",
   "metadata": {
    "colab": {
     "base_uri": "https://localhost:8080/"
    },
    "id": "AUVYX2Uv1rng",
    "outputId": "cd28a141-b94b-46ef-f2b9-22c672fc381e"
   },
   "outputs": [
    {
     "name": "stdout",
     "output_type": "stream",
     "text": [
      "+--------+----------------------+\n",
      "|bedrooms|average_price_per_sqft|\n",
      "+--------+----------------------+\n",
      "|       0|                1250.0|\n",
      "|       2|     716.0381965996851|\n",
      "|       3|     678.9521125584703|\n",
      "|       4|       909.14739964404|\n",
      "|       5|     908.8325677804108|\n",
      "|       6|     422.3111656297121|\n",
      "|       7|    1126.0252348993295|\n",
      "|       8|    1567.6470588235286|\n",
      "|       9|    1108.1412183984862|\n",
      "|      11|     433.6545589325418|\n",
      "+--------+----------------------+\n",
      "\n"
     ]
    }
   ],
   "source": [
    "spark.sql(\"select bedrooms,avg(price_filtered/sqft) as average_price_per_sqft   from task11 where title == 'House for sale'  group by bedrooms order by bedrooms\").show()"
   ]
  }
 ],
 "metadata": {
  "colab": {
   "collapsed_sections": [],
   "name": "pysprak_draft.ipynb",
   "provenance": []
  },
  "kernelspec": {
   "display_name": "Python 3 (ipykernel)",
   "language": "python",
   "name": "python3"
  },
  "language_info": {
   "codemirror_mode": {
    "name": "ipython",
    "version": 3
   },
   "file_extension": ".py",
   "mimetype": "text/x-python",
   "name": "python",
   "nbconvert_exporter": "python",
   "pygments_lexer": "ipython3",
   "version": "3.9.7"
  }
 },
 "nbformat": 4,
 "nbformat_minor": 5
}
